{
  "nbformat": 4,
  "nbformat_minor": 0,
  "metadata": {
    "colab": {
      "provenance": [],
      "authorship_tag": "ABX9TyP6MiebPPBAMm4q89fNmDFl",
      "include_colab_link": true
    },
    "kernelspec": {
      "name": "python3",
      "display_name": "Python 3"
    },
    "language_info": {
      "name": "python"
    }
  },
  "cells": [
    {
      "cell_type": "markdown",
      "metadata": {
        "id": "view-in-github",
        "colab_type": "text"
      },
      "source": [
        "<a href=\"https://colab.research.google.com/github/minsing-jin/Minsingsik_algorithm_study_contents/blob/main/Python_class_practice/Drink_vending_machine.ipynb\" target=\"_parent\"><img src=\"https://colab.research.google.com/assets/colab-badge.svg\" alt=\"Open In Colab\"/></a>"
      ]
    },
    {
      "cell_type": "markdown",
      "source": [
        "# Drink vending machine project to practice OOP\n",
        "\n",
        "class 개념과 object에 개념을 깨닫기 위한 프로젝트"
      ],
      "metadata": {
        "id": "4sm8hqptEf0J"
      }
    },
    {
      "cell_type": "markdown",
      "source": [
        "### Reference\n",
        "1. https://wikidocs.net/10949\n",
        "\n",
        "2. https://velog.io/@dlskawns/Python-OOP-%EA%B0%9C%EB%85%90-%EB%B0%8F-Class-%EC%A0%95%EB%A6%AC-%EB%B0%8F-%EC%8B%A4%EC%8A%B5\n",
        "\n"
      ],
      "metadata": {
        "id": "W5zk_VwZFFTG"
      }
    },
    {
      "cell_type": "markdown",
      "source": [
        "현황판 브리핑:\n",
        "1. 현재 메뉴판 구성하는 class 제작중\n",
        "2. input 클래스와 메뉴판 만드는 클래스의 상호작용(이게 상속인가?)을 통해서 while 루프로 예외 상황(입력 없음, 잘못된 자료형 입력등) 빼고자 하고 있음"
      ],
      "metadata": {
        "id": "SlNEl1fRWLhP"
      }
    },
    {
      "cell_type": "markdown",
      "source": [
        "## Create menu class!"
      ],
      "metadata": {
        "id": "5TwpdM4lJe7i"
      }
    },
    {
      "cell_type": "code",
      "source": [
        "\"\"\"\n",
        "상속은 구성 마치고 사용해볼만한 기능에 추가해보자\n",
        "\n",
        "#  Create input class\n",
        "class Input_menu:\n",
        "\n",
        "\n",
        "  def __init__(self):\n",
        "    print(\"Let's create drink vending machine using class!\")\n",
        "\n",
        "# input menu info instance\n",
        "  def input_info(self):\n",
        "    print(\"메뉴를 입력하세요\")\n",
        "    self.menu = str(input())\n",
        "\n",
        "    print(\"가격을 입력하세요\")\n",
        "    self.price = int(input())\n",
        "\n",
        "\"\"\"\n",
        "\n",
        "\n",
        "#  Create Menu class and inherit\n",
        "class Create_menu\n",
        "\n",
        "  menu_price_dic = {}        # Create key-value dictionary\n",
        "\n",
        "\n",
        "  def __init__(self):\n",
        "    print(\"Let's create drink vending machine using class!\")\n",
        "\n",
        "\n",
        "\n",
        "\n",
        "  # input menu info instance\n",
        "  def input_info(self):\n",
        "    print(\"메뉴를 입력하세요\")\n",
        "    self.menu = str(input())\n",
        "\n",
        "    print(\"가격을 입력하세요\")\n",
        "    self.price = int(input())\n",
        "\n",
        "\n",
        "\n",
        "  # create menu\n",
        "  def create_menu(self):\n",
        "    while True:\n",
        "\n",
        "      # Input menu and price\n",
        "      while True:\n",
        "        try:\n",
        "          input_info()\n",
        "        except:\n",
        "          print(\"잘못된 값을 입력했습니다. 다시 입력해주세요\")\n",
        "        break\n",
        "      # Exception remove\n",
        "      if len(menu) == 0 or len(price) == 0:\n",
        "        print(\"입력이 되지 않았습니다. 다시 입력하세요!\")\n",
        "        input_info()\n",
        "\n",
        "\n",
        "      # Save menu, price in dictionary\n",
        "      menu_price_dic[menu] = price\n",
        "      print(menu_price_dic)\n",
        "\n"
      ],
      "metadata": {
        "id": "vLERQF34FEsv"
      },
      "execution_count": 17,
      "outputs": []
    },
    {
      "cell_type": "code",
      "source": [
        "while True:\n",
        "    try:\n",
        "\n",
        "      print(\"메뉴를 입력하세요\")\n",
        "      menu = str(input(\"메뉴를 입력하세요\"))\n",
        "\n",
        "      print(\"가격을 입력하세요\")\n",
        "      price = int(input())\n",
        "    except:\n",
        "      print(\"잘못된 값을 입력했습니다. 다시 입력해주세요\")\n",
        "      menu ="
      ],
      "metadata": {
        "colab": {
          "base_uri": "https://localhost:8080/"
        },
        "id": "6jxJ8BWtFDQx",
        "outputId": "7360bbb5-90f1-41c5-a4aa-457656f0248f"
      },
      "execution_count": null,
      "outputs": [
        {
          "output_type": "stream",
          "name": "stdout",
          "text": [
            "메뉴를 입력하세요12\n",
            "가격을 입력하세요무야호\n",
            "잘못된 값을 입력했습니다. 다시 입력해주세요\n"
          ]
        }
      ]
    },
    {
      "cell_type": "code",
      "execution_count": null,
      "metadata": {
        "id": "soJApNHHEVxJ"
      },
      "outputs": [],
      "source": [
        "class Menu:\n",
        "  def input_info(self):\n",
        "    print(\"메뉴를 입력하세요\")\n",
        "    self.menu = str(input())\n",
        "\n",
        "    print(\"가격을 입력하세요\")\n",
        "    self.price = int(input())"
      ]
    },
    {
      "cell_type": "code",
      "source": [
        "menu1 = Menu()\n",
        "\n",
        "menu1.input_info()"
      ],
      "metadata": {
        "colab": {
          "base_uri": "https://localhost:8080/"
        },
        "id": "eUjh4ub2MDXJ",
        "outputId": "9fd093d1-0f44-4c4d-fc92-92ddecb00604"
      },
      "execution_count": null,
      "outputs": [
        {
          "name": "stdout",
          "output_type": "stream",
          "text": [
            "메뉴를 입력하세요\n",
            "아메리카노\n",
            "가격을 입력하세요\n",
            "1000\n"
          ]
        }
      ]
    },
    {
      "cell_type": "code",
      "source": [],
      "metadata": {
        "id": "EAgxh_l3MZVP"
      },
      "execution_count": null,
      "outputs": []
    }
  ]
}